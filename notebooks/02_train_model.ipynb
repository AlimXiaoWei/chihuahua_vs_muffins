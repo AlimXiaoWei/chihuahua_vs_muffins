{
 "cells": [
  {
   "metadata": {},
   "cell_type": "markdown",
   "source": "### Muffin vs Chihuahua · Tome II · Model Training",
   "id": "108859aaaf25eaf9"
  },
  {
   "metadata": {},
   "cell_type": "markdown",
   "source": "#### Chapter I · Config & Hyper-parameters",
   "id": "f2e4c5acd559aa2b"
  },
  {
   "metadata": {},
   "cell_type": "code",
   "outputs": [],
   "execution_count": null,
   "source": [
    "import yaml, os, torch, time\n",
    "from torchvision import datasets, transforms, models\n",
    "from torch.utils.data import DataLoader, random_split\n",
    "from pathlib import Path"
   ],
   "id": "d218b52e8765ed80"
  },
  {
   "metadata": {},
   "cell_type": "code",
   "outputs": [],
   "execution_count": null,
   "source": [
    "with open('../config/config.yaml') as f:\n",
    "    cfg = yaml.safe_load(f)\n",
    "\n",
    "# ____________________________________________________________________\n",
    "# Hyper-parameters\n",
    "# 10 epochs makes 2-3 iterations according to the GPU T4 (apx. 12 minutes)\n",
    "# If the $loss is stable and the $val-loss i not raising, it's ok to set $EPOCHS to 20+\n",
    "# ____________________________________________________________________\n",
    "IMG_SIZE   = 128\n",
    "BATCH_SIZE = 32\n",
    "EPOCHS     = 10\n",
    "LR         = 1e-4\n",
    "\n",
    "\n",
    "train_dir = Path(cfg['data']['path']) / 'train'\n",
    "test_dir  = Path(cfg['data']['path'])  / 'test'"
   ],
   "id": "553671e2990498c0"
  },
  {
   "metadata": {},
   "cell_type": "markdown",
   "source": "#### Chapter II · Transforms & Dataloaders",
   "id": "b6c2551c64f94eb"
  },
  {
   "metadata": {},
   "cell_type": "code",
   "outputs": [],
   "execution_count": null,
   "source": [
    "train_tf = transforms.Compose([\n",
    "    transforms.Resize((IMG_SIZE, IMG_SIZE)),\n",
    "    transforms.RandomHorizontalFlip(),\n",
    "    transforms.RandomRotation(10),\n",
    "    transforms.ToTensor(),\n",
    "    transforms.Normalize([0.5,0.5,0.5], [0.5,0.5,0.5])\n",
    "])\n",
    "\n",
    "test_tf = transforms.Compose([\n",
    "    transforms.Resize((IMG_SIZE, IMG_SIZE)),\n",
    "    transforms.ToTensor(),\n",
    "    transforms.Normalize([0.5,0.5,0.5], [0.5,0.5,0.5])\n",
    "])\n",
    "\n",
    "full_train_ds = datasets.ImageFolder(train_dir, transform=train_tf)\n",
    "test_ds       = datasets.ImageFolder(test_dir,  transform=test_tf)\n",
    "\n",
    "train_len = int(0.8*len(full_train_ds))\n",
    "val_len   = len(full_train_ds) - train_len\n",
    "train_ds, val_ds = random_split(full_train_ds, [train_len, val_len])\n",
    "\n",
    "train_loader = DataLoader(train_ds, batch_size=BATCH_SIZE, shuffle=True)\n",
    "val_loader   = DataLoader(val_ds,   batch_size=BATCH_SIZE, shuffle=False)\n",
    "test_loader  = DataLoader(test_ds,  batch_size=BATCH_SIZE, shuffle=False)\n",
    "\n",
    "print(f\"Train: {len(train_ds)}  Val: {len(val_ds)}  Test: {len(test_ds)}\")"
   ],
   "id": "6a95786b7b03650d"
  },
  {
   "metadata": {},
   "cell_type": "markdown",
   "source": "#### Chapter III · Model",
   "id": "757eb21497ac1d47"
  },
  {
   "metadata": {},
   "cell_type": "code",
   "outputs": [],
   "execution_count": null,
   "source": [
    "device = torch.device('cuda' if torch.cuda.is_available() else 'cpu')\n",
    "\n",
    "model = models.resnet18(weights='IMAGENET1K_V1')\n",
    "model.fc = torch.nn.Linear(model.fc.in_features, 2)\n",
    "model = model.to(device)\n",
    "\n",
    "# ____________________________________________________________________\n",
    "# CrossEntropyLoss & Adam;\n",
    "# CrossEntropyLoss fits for 2+ classes\n",
    "# Adam is more reliable for starting\n",
    "# ____________________________________________________________________\n",
    "criterion = torch.nn.CrossEntropyLoss()\n",
    "optimizer = torch.optim.Adam(model.parameters(), lr=LR)"
   ],
   "id": "e8d77a63103fc667"
  },
  {
   "metadata": {},
   "cell_type": "markdown",
   "source": "#### Chapter IV · Training Cycle",
   "id": "8e56c9f8d68e166c"
  },
  {
   "metadata": {},
   "cell_type": "code",
   "outputs": [],
   "execution_count": null,
   "source": [
    "history = {'train_loss':[], 'val_loss':[]}\n",
    "\n",
    "for epoch in range(1, EPOCHS+1):\n",
    "    # --- Train ---\n",
    "    model.train(); running = 0\n",
    "    for x,y in train_loader:\n",
    "        x,y = x.to(device), y.to(device)\n",
    "        optimizer.zero_grad()\n",
    "        out = model(x); loss = criterion(out, y)\n",
    "        loss.backward(); optimizer.step()\n",
    "        running += loss.item()*x.size(0)\n",
    "    train_loss = running/len(train_loader.dataset)\n",
    "\n",
    "    # --- Val ---\n",
    "    model.eval(); running = 0\n",
    "    with torch.no_grad():\n",
    "        for x,y in val_loader:\n",
    "            x,y = x.to(device), y.to(device)\n",
    "            out = model(x); loss = criterion(out, y)\n",
    "            running += loss.item()*x.size(0)\n",
    "    val_loss = running/len(val_loader.dataset)\n",
    "\n",
    "    history['train_loss'].append(train_loss)\n",
    "    history['val_loss'].append(val_loss)\n",
    "\n",
    "    print(f\"Epoch {epoch}/{EPOCHS} — train {train_loss:.4f} · val {val_loss:.4f}\")\n",
    "\n",
    "torch.save(model.state_dict(), '../assets/muffin_vs_chihuahua.pth')"
   ],
   "id": "a21f59d34ec24919"
  }
 ],
 "metadata": {
  "kernelspec": {
   "display_name": "Python 3",
   "language": "python",
   "name": "python3"
  },
  "language_info": {
   "codemirror_mode": {
    "name": "ipython",
    "version": 2
   },
   "file_extension": ".py",
   "mimetype": "text/x-python",
   "name": "python",
   "nbconvert_exporter": "python",
   "pygments_lexer": "ipython2",
   "version": "2.7.6"
  }
 },
 "nbformat": 4,
 "nbformat_minor": 5
}
