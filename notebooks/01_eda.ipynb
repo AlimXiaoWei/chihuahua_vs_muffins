{
 "cells": [
  {
   "metadata": {},
   "cell_type": "markdown",
   "source": "### Muffin vs Chihuahua · Tome I · EDA",
   "id": "4d69cd0756767e96"
  },
  {
   "metadata": {},
   "cell_type": "markdown",
   "source": "#### Chapter I · Dataset check, balance, and image examples",
   "id": "fe45b2c304dfb5ba"
  },
  {
   "metadata": {},
   "cell_type": "code",
   "outputs": [],
   "execution_count": null,
   "source": [
    "import os, yaml, random, matplotlib.pyplot as plt\n",
    "from PIL import Image\n",
    "from collections import Counter\n",
    "from pathlib import Path"
   ],
   "id": "17f9faf0c5f7b300"
  },
  {
   "metadata": {},
   "cell_type": "code",
   "outputs": [],
   "execution_count": null,
   "source": [
    "with open('../config/config.yaml') as f:\n",
    "    cfg = yaml.safe_load(f)\n",
    "\n",
    "train_dir = Path(cfg['data']['path']) / 'train'\n",
    "test_dir  = Path(cfg['data']['path'])  / 'test'\n",
    "print(f\"Train path: {train_dir}\\nTest  path: {test_dir}\")"
   ],
   "id": "544e03d6fef35847"
  },
  {
   "metadata": {},
   "cell_type": "markdown",
   "source": "#### Chapter II · Size & Balance",
   "id": "528ddf23b3eb60ef"
  },
  {
   "metadata": {},
   "cell_type": "code",
   "outputs": [],
   "execution_count": null,
   "source": [
    "def count_images(root):\n",
    "    counts = {}\n",
    "    for cls in sorted(os.listdir(root)):\n",
    "        n = len(list((root/cls).glob('*')))\n",
    "        counts[cls] = n\n",
    "    return counts\n",
    "\n",
    "train_counts = count_images(train_dir)\n",
    "test_counts  = count_images(test_dir)\n",
    "print('Train:', train_counts)\n",
    "print('Test :', test_counts)\n"
   ],
   "id": "7cf904923c8f125c"
  },
  {
   "metadata": {},
   "cell_type": "markdown",
   "source": "#### Chapter III · Visual spotcheck of random samples",
   "id": "62aea3b5d08daff"
  },
  {
   "metadata": {},
   "cell_type": "code",
   "outputs": [],
   "execution_count": null,
   "source": [
    "sample_paths = random.sample(list(train_dir.glob('*/*')), 6)\n",
    "plt.figure(figsize=(10,6))\n",
    "for i, p in enumerate(sample_paths, 1):\n",
    "    img = Image.open(p)\n",
    "    plt.subplot(2,3,i); plt.imshow(img); plt.axis('off')\n",
    "    plt.title(p.parent.name)\n",
    "plt.tight_layout(); plt.show()"
   ],
   "id": "e59ab9bce015a22b"
  }
 ],
 "metadata": {
  "kernelspec": {
   "display_name": "Python 3",
   "language": "python",
   "name": "python3"
  },
  "language_info": {
   "codemirror_mode": {
    "name": "ipython",
    "version": 2
   },
   "file_extension": ".py",
   "mimetype": "text/x-python",
   "name": "python",
   "nbconvert_exporter": "python",
   "pygments_lexer": "ipython2",
   "version": "2.7.6"
  }
 },
 "nbformat": 4,
 "nbformat_minor": 5
}
